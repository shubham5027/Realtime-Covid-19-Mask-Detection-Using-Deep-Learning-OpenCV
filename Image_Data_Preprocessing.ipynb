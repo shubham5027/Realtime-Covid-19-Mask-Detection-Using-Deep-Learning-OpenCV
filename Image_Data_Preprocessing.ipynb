{
  "nbformat": 4,
  "nbformat_minor": 0,
  "metadata": {
    "colab": {
      "provenance": [],
      "gpuType": "T4"
    },
    "kernelspec": {
      "name": "python3",
      "display_name": "Python 3"
    },
    "language_info": {
      "name": "python"
    },
    "accelerator": "GPU"
  },
  "cells": [
    {
      "cell_type": "code",
      "execution_count": 1,
      "metadata": {
        "id": "KPtZv60kY022"
      },
      "outputs": [],
      "source": [
        "import cv2\n",
        "import os\n",
        "import numpy as np\n",
        "from keras.utils import to_categorical"
      ]
    },
    {
      "cell_type": "code",
      "source": [
        "data='/content/drive/MyDrive/dataset'"
      ],
      "metadata": {
        "id": "uPyV3UGgZjtt"
      },
      "execution_count": 2,
      "outputs": []
    },
    {
      "cell_type": "code",
      "source": [
        "categories=os.listdir(data)\n",
        "labels=[i for i in range(len(categories))]\n",
        "\n",
        "label_dict=dict(zip(categories,labels))"
      ],
      "metadata": {
        "id": "WkpbTOj5ZrLx"
      },
      "execution_count": 3,
      "outputs": []
    },
    {
      "cell_type": "code",
      "source": [
        "print(label_dict)\n",
        "print(categories)\n",
        "print(labels)"
      ],
      "metadata": {
        "colab": {
          "base_uri": "https://localhost:8080/"
        },
        "id": "Jy-DSvkpaMIm",
        "outputId": "543a2b3a-ab6c-484e-8aae-ef7d7c1cad73"
      },
      "execution_count": 4,
      "outputs": [
        {
          "output_type": "stream",
          "name": "stdout",
          "text": [
            "{'without mask': 0, 'with mask': 1}\n",
            "['without mask', 'with mask']\n",
            "[0, 1]\n"
          ]
        }
      ]
    },
    {
      "cell_type": "code",
      "source": [
        "# converting every image to grayscale\n",
        "new_data=[]\n",
        "target=[]\n",
        "\n",
        "for category in categories:\n",
        "  folder=os.path.join(data,category)\n",
        "  img_names=os.listdir(folder)\n",
        "\n",
        "  for img_name in img_names:\n",
        "    img_path=os.path.join(folder,img_name)\n",
        "    img=cv2.imread(img_path)\n",
        "\n",
        "    try:\n",
        "      # rgb_img=cv2.cvtColor(img,cv2.COLOR_BGR2GRAY) #convrt in grayscale\n",
        "      resized_img=cv2.resize(img,(100,100))    #resize resolution\n",
        "      new_data.append(resized_img)                  #put process img into new_data\n",
        "      target.append(label_dict[category])         #put label of img into targt\n",
        "    except Exception as e:\n",
        "      print('Exception',e)\n"
      ],
      "metadata": {
        "id": "DpiDzsz1aUTD"
      },
      "execution_count": 5,
      "outputs": []
    },
    {
      "cell_type": "code",
      "source": [
        "\n",
        "#normalizing the data\n",
        "import numpy as np\n",
        "new_data=np.array(new_data)/255.0 #normalize 0 to 1 all pixel\n",
        "new_data=np.reshape(new_data,(new_data.shape[0],100,100,3)) #reshaping 1d with 100,100 pixel size\n",
        "target=np.array(target)"
      ],
      "metadata": {
        "id": "vQLvJ9Y0cBQb"
      },
      "execution_count": 6,
      "outputs": []
    },
    {
      "cell_type": "code",
      "source": [
        "#converting to categorical\n",
        "from keras.utils import to_categorical\n",
        "new_target=to_categorical(target)"
      ],
      "metadata": {
        "id": "uKvRCt5idey7"
      },
      "execution_count": 7,
      "outputs": []
    },
    {
      "cell_type": "code",
      "source": [
        "np.save('data',new_data)\n",
        "np.save('target',new_target)"
      ],
      "metadata": {
        "id": "fhgj7w6deHr0"
      },
      "execution_count": 8,
      "outputs": []
    },
    {
      "cell_type": "code",
      "source": [
        "data=np.load('data.npy')\n",
        "target=np.load('target.npy')"
      ],
      "metadata": {
        "id": "zTpLWF6Oivce"
      },
      "execution_count": 9,
      "outputs": []
    },
    {
      "cell_type": "code",
      "source": [
        "\n",
        "from sklearn.model_selection import train_test_split\n",
        "\n",
        "x_train,x_test,y_train,y_test=train_test_split(data,target,test_size=0.2)"
      ],
      "metadata": {
        "id": "fXlVKzjBvLQO"
      },
      "execution_count": 10,
      "outputs": []
    },
    {
      "cell_type": "code",
      "source": [
        "from tensorflow import keras\n",
        "import keras\n",
        "from keras.layers import Conv2D,Flatten,MaxPooling2D,Dense,Dropout\n",
        "from keras.models import Sequential\n",
        "\n",
        "# Convolutional layers\n",
        "model=Sequential()\n",
        "model.add(Conv2D(32, (3, 3), input_shape=(100,100,3), activation='relu'))\n",
        "model.add(MaxPooling2D((2, 2),padding='valid'))\n",
        "\n",
        "model.add(Conv2D(64, (3,3), activation='relu'))\n",
        "model.add(MaxPooling2D((2,2),padding='valid'))\n",
        "\n",
        "# model.add(Conv2D(128, (3,3), activation='relu'))\n",
        "# model.add(MaxPooling2D((2,2),padding='valid'))\n",
        "\n",
        "# model.add(Conv2D(, (3, 3), activation='relu'))\n",
        "# model.add(MaxPooling2D((2, 2)))\n",
        "\n",
        "# Flatten and fully connected layers\n",
        "model.add(Flatten())\n",
        "model.add(Dropout(0.5))\n",
        "model.add(Dense(2, activation='softmax',kernel_regularizer='l1',))"
      ],
      "metadata": {
        "id": "pwRpnklvpns2"
      },
      "execution_count": 38,
      "outputs": []
    },
    {
      "cell_type": "code",
      "source": [
        "model.summary()"
      ],
      "metadata": {
        "colab": {
          "base_uri": "https://localhost:8080/"
        },
        "id": "hQnzsTgyraYj",
        "outputId": "5f2a8251-6f3c-4d7d-811e-21720f95bc86"
      },
      "execution_count": 39,
      "outputs": [
        {
          "output_type": "stream",
          "name": "stdout",
          "text": [
            "Model: \"sequential_3\"\n",
            "_________________________________________________________________\n",
            " Layer (type)                Output Shape              Param #   \n",
            "=================================================================\n",
            " conv2d_6 (Conv2D)           (None, 98, 98, 32)        896       \n",
            "                                                                 \n",
            " max_pooling2d_6 (MaxPoolin  (None, 49, 49, 32)        0         \n",
            " g2D)                                                            \n",
            "                                                                 \n",
            " conv2d_7 (Conv2D)           (None, 47, 47, 64)        18496     \n",
            "                                                                 \n",
            " max_pooling2d_7 (MaxPoolin  (None, 23, 23, 64)        0         \n",
            " g2D)                                                            \n",
            "                                                                 \n",
            " flatten_3 (Flatten)         (None, 33856)             0         \n",
            "                                                                 \n",
            " dropout_3 (Dropout)         (None, 33856)             0         \n",
            "                                                                 \n",
            " dense_3 (Dense)             (None, 2)                 67714     \n",
            "                                                                 \n",
            "=================================================================\n",
            "Total params: 87106 (340.26 KB)\n",
            "Trainable params: 87106 (340.26 KB)\n",
            "Non-trainable params: 0 (0.00 Byte)\n",
            "_________________________________________________________________\n"
          ]
        }
      ]
    },
    {
      "cell_type": "code",
      "source": [
        "model.compile( optimizer='adam',loss='categorical_crossentropy',metrics=['accuracy'])"
      ],
      "metadata": {
        "id": "_0n0euyxzqfJ"
      },
      "execution_count": 40,
      "outputs": []
    },
    {
      "cell_type": "code",
      "source": [
        "\n",
        "from keras.callbacks import ModelCheckpoint\n",
        "checkpoint = ModelCheckpoint('model-{epoch:03d}.model',monitor='val_loss',verbose=0,save_best_only=True,mode='auto')\n",
        "history=model.fit(x_train,y_train,epochs=20,callbacks=[checkpoint],validation_split=0.2)"
      ],
      "metadata": {
        "colab": {
          "base_uri": "https://localhost:8080/"
        },
        "id": "8aGSeM2REA-F",
        "outputId": "4a8df169-e9d8-4a27-b9f4-5f2d02c24d61"
      },
      "execution_count": 41,
      "outputs": [
        {
          "output_type": "stream",
          "name": "stdout",
          "text": [
            "Epoch 1/20\n",
            "4/4 [==============================] - 2s 295ms/step - loss: 4.4888 - accuracy: 0.8776 - val_loss: 3.5159 - val_accuracy: 0.9600\n",
            "Epoch 2/20\n",
            "4/4 [==============================] - 1s 235ms/step - loss: 3.0834 - accuracy: 0.9694 - val_loss: 2.3309 - val_accuracy: 0.9600\n",
            "Epoch 3/20\n",
            "4/4 [==============================] - 1s 228ms/step - loss: 2.0112 - accuracy: 0.9694 - val_loss: 1.6537 - val_accuracy: 0.9600\n",
            "Epoch 4/20\n",
            "4/4 [==============================] - 1s 237ms/step - loss: 1.5221 - accuracy: 0.9694 - val_loss: 1.4313 - val_accuracy: 0.9600\n",
            "Epoch 5/20\n",
            "4/4 [==============================] - 1s 231ms/step - loss: 1.2931 - accuracy: 0.9694 - val_loss: 1.1495 - val_accuracy: 0.9600\n",
            "Epoch 6/20\n",
            "4/4 [==============================] - 1s 227ms/step - loss: 1.0003 - accuracy: 0.9694 - val_loss: 0.9173 - val_accuracy: 0.9600\n",
            "Epoch 7/20\n",
            "4/4 [==============================] - 1s 311ms/step - loss: 0.7964 - accuracy: 0.9694 - val_loss: 0.7745 - val_accuracy: 0.9600\n",
            "Epoch 8/20\n",
            "4/4 [==============================] - 1s 352ms/step - loss: 0.6577 - accuracy: 0.9694 - val_loss: 0.6407 - val_accuracy: 0.9600\n",
            "Epoch 9/20\n",
            "4/4 [==============================] - 1s 490ms/step - loss: 0.5414 - accuracy: 0.9694 - val_loss: 0.5603 - val_accuracy: 0.9600\n",
            "Epoch 10/20\n",
            "4/4 [==============================] - 1s 332ms/step - loss: 0.4694 - accuracy: 0.9694 - val_loss: 0.5141 - val_accuracy: 0.9600\n",
            "Epoch 11/20\n",
            "4/4 [==============================] - 1s 229ms/step - loss: 0.4162 - accuracy: 0.9694 - val_loss: 0.4450 - val_accuracy: 0.9600\n",
            "Epoch 12/20\n",
            "4/4 [==============================] - 1s 237ms/step - loss: 0.3626 - accuracy: 0.9694 - val_loss: 0.4400 - val_accuracy: 0.9600\n",
            "Epoch 13/20\n",
            "4/4 [==============================] - 1s 232ms/step - loss: 0.3429 - accuracy: 0.9694 - val_loss: 0.4050 - val_accuracy: 0.9600\n",
            "Epoch 14/20\n",
            "4/4 [==============================] - 1s 231ms/step - loss: 0.3235 - accuracy: 0.9694 - val_loss: 0.3874 - val_accuracy: 0.9600\n",
            "Epoch 15/20\n",
            "4/4 [==============================] - 0s 19ms/step - loss: 0.3032 - accuracy: 0.9694 - val_loss: 0.4028 - val_accuracy: 0.9600\n",
            "Epoch 16/20\n",
            "4/4 [==============================] - 1s 230ms/step - loss: 0.2976 - accuracy: 0.9694 - val_loss: 0.3787 - val_accuracy: 0.9600\n",
            "Epoch 17/20\n",
            "4/4 [==============================] - 0s 19ms/step - loss: 0.2961 - accuracy: 0.9694 - val_loss: 0.4689 - val_accuracy: 0.9600\n",
            "Epoch 18/20\n",
            "4/4 [==============================] - 0s 18ms/step - loss: 0.3238 - accuracy: 0.9694 - val_loss: 0.4002 - val_accuracy: 0.9600\n",
            "Epoch 19/20\n",
            "4/4 [==============================] - 0s 20ms/step - loss: 0.2802 - accuracy: 0.9694 - val_loss: 0.3975 - val_accuracy: 0.9600\n",
            "Epoch 20/20\n",
            "4/4 [==============================] - 0s 18ms/step - loss: 0.2794 - accuracy: 0.9694 - val_loss: 0.3932 - val_accuracy: 0.9600\n"
          ]
        }
      ]
    },
    {
      "cell_type": "code",
      "source": [
        "\n",
        "import matplotlib.pyplot as plt\n",
        "plt.plot(history.history['accuracy'])\n",
        "plt.plot(history.history['val_accuracy'])"
      ],
      "metadata": {
        "colab": {
          "base_uri": "https://localhost:8080/",
          "height": 447
        },
        "id": "U2EBOGpQVXX5",
        "outputId": "2c2d4d89-85a9-4906-f2b6-0c36281ade3d"
      },
      "execution_count": 42,
      "outputs": [
        {
          "output_type": "execute_result",
          "data": {
            "text/plain": [
              "[<matplotlib.lines.Line2D at 0x7fd5dde57190>]"
            ]
          },
          "metadata": {},
          "execution_count": 42
        },
        {
          "output_type": "display_data",
          "data": {
            "text/plain": [
              "<Figure size 640x480 with 1 Axes>"
            ],
            "image/png": "[encoded data removed]"
          },
          "metadata": {}
        }
      ]
    },
    {
      "cell_type": "code",
      "source": [
        "import matplotlib.pyplot as plt\n",
        "plt.plot(history.history['val_loss'])\n",
        "plt.plot(history.history['loss'])"
      ],
      "metadata": {
        "colab": {
          "base_uri": "https://localhost:8080/",
          "height": 447
        },
        "id": "XUP4vgySVanp",
        "outputId": "62b03746-3154-4161-92ae-30bf4b8db59d"
      },
      "execution_count": 43,
      "outputs": [
        {
          "output_type": "execute_result",
          "data": {
            "text/plain": [
              "[<matplotlib.lines.Line2D at 0x7fd5dc2afa00>]"
            ]
          },
          "metadata": {},
          "execution_count": 43
        },
        {
          "output_type": "display_data",
          "data": {
            "text/plain": [
              "<Figure size 640x480 with 1 Axes>"
            ],
            "image/png": "[encoded data removed]"
          },
          "metadata": {}
        }
      ]
    },
    {
      "cell_type": "code",
      "source": [
        "model.evaluate(x_test,y_test)"
      ],
      "metadata": {
        "colab": {
          "base_uri": "https://localhost:8080/"
        },
        "id": "f_yvzVmRz7Lh",
        "outputId": "70c2d797-a0db-40e3-80e6-58f0ebfd4fe8"
      },
      "execution_count": 44,
      "outputs": [
        {
          "output_type": "stream",
          "name": "stdout",
          "text": [
            "1/1 [==============================] - 0s 27ms/step - loss: 0.2084 - accuracy: 1.0000\n"
          ]
        },
        {
          "output_type": "execute_result",
          "data": {
            "text/plain": [
              "[0.20837464928627014, 1.0]"
            ]
          },
          "metadata": {},
          "execution_count": 44
        }
      ]
    },
    {
      "cell_type": "code",
      "source": [
        "from google.colab.patches import cv2_imshow\n",
        "import cv2\n",
        "\n",
        "cap=cv2.VideoCapture(0)\n",
        "\n",
        "while True:\n",
        "  ret,frame=cap.read()\n",
        "\n",
        "#calling detect\n",
        "\n",
        "\n",
        "\n",
        "  cv2_imshow('window',frame)\n",
        "  if cv2.waitkey(1) & 0xff == ord('5'):\n",
        "   break\n",
        "\n",
        "cv.destroyAllWindows()\n"
      ],
      "metadata": {
        "colab": {
          "base_uri": "https://localhost:8080/",
          "height": 245
        },
        "id": "UjVlVcPkySAn",
        "outputId": "060b368d-5203-48a6-be24-3ac8ef25f6f8"
      },
      "execution_count": 56,
      "outputs": [
        {
          "output_type": "error",
          "ename": "TypeError",
          "evalue": "ignored",
          "traceback": [
            "\u001b[0;31m---------------------------------------------------------------------------\u001b[0m",
            "\u001b[0;31mTypeError\u001b[0m                                 Traceback (most recent call last)",
            "\u001b[0;32m<ipython-input-56-9a6d7741e5e4>\u001b[0m in \u001b[0;36m<cell line: 6>\u001b[0;34m()\u001b[0m\n\u001b[1;32m      6\u001b[0m \u001b[0;32mwhile\u001b[0m \u001b[0;32mTrue\u001b[0m\u001b[0;34m:\u001b[0m\u001b[0;34m\u001b[0m\u001b[0;34m\u001b[0m\u001b[0m\n\u001b[1;32m      7\u001b[0m   \u001b[0mret\u001b[0m\u001b[0;34m,\u001b[0m\u001b[0mframe\u001b[0m\u001b[0;34m=\u001b[0m\u001b[0mcap\u001b[0m\u001b[0;34m.\u001b[0m\u001b[0mread\u001b[0m\u001b[0;34m(\u001b[0m\u001b[0;34m)\u001b[0m\u001b[0;34m\u001b[0m\u001b[0;34m\u001b[0m\u001b[0m\n\u001b[0;32m----> 8\u001b[0;31m   \u001b[0mcv2_imshow\u001b[0m\u001b[0;34m(\u001b[0m\u001b[0;34m'window'\u001b[0m\u001b[0;34m,\u001b[0m\u001b[0mframe\u001b[0m\u001b[0;34m)\u001b[0m\u001b[0;34m\u001b[0m\u001b[0;34m\u001b[0m\u001b[0m\n\u001b[0m\u001b[1;32m      9\u001b[0m   \u001b[0;32mif\u001b[0m \u001b[0mcv2\u001b[0m\u001b[0;34m.\u001b[0m\u001b[0mwaitkey\u001b[0m\u001b[0;34m(\u001b[0m\u001b[0;36m1\u001b[0m\u001b[0;34m)\u001b[0m \u001b[0;34m&\u001b[0m \u001b[0;36m0xff\u001b[0m \u001b[0;34m==\u001b[0m \u001b[0mord\u001b[0m\u001b[0;34m(\u001b[0m\u001b[0;34m'5'\u001b[0m\u001b[0;34m)\u001b[0m\u001b[0;34m:\u001b[0m\u001b[0;34m\u001b[0m\u001b[0;34m\u001b[0m\u001b[0m\n\u001b[1;32m     10\u001b[0m    \u001b[0;32mbreak\u001b[0m\u001b[0;34m\u001b[0m\u001b[0;34m\u001b[0m\u001b[0m\n",
            "\u001b[0;31mTypeError\u001b[0m: cv2_imshow() takes 1 positional argument but 2 were given"
          ]
        }
      ]
    },
    {
      "cell_type": "code",
      "source": [
        "def detect_mask"
      ],
      "metadata": {
        "id": "UBqyox453OCi"
      },
      "execution_count": null,
      "outputs": []
    },
    {
      "cell_type": "code",
      "source": [
        "from keras.models import load_model\n",
        "import numpy as np\n",
        "model = load_model('/content/model-019.model')\n"
      ],
      "metadata": {
        "id": "rmHhI3IXFBhq"
      },
      "execution_count": null,
      "outputs": []
    },
    {
      "cell_type": "code",
      "source": [
        "\n",
        "face_clsfr=cv2.CascadeClassifier('haarcascade_frontalface_default.xml')\n",
        "\n",
        "cap=cv2.VideoCapture(0)\n",
        "\n",
        "labels_dict={0:'MASK',1:'NO MASK'}\n",
        "color_dict={0:(0,255,0),1:(0,0,255)}\n",
        "\n",
        "while(True):\n",
        "\n",
        "    ret,img=cap.read()\n",
        "\n",
        "    faces=face_clsfr.detectMultiScale(img,1.3,5)\n",
        "\n",
        "    for x,y,w,h in faces:\n",
        "\n",
        "        face_img=gray[y:y+w,x:x+w]\n",
        "        resized=cv2.resize(face_img,(100,100))\n",
        "        normalized=resized/255.0\n",
        "        reshaped=np.reshape(normalized,(1,100,100,1))\n",
        "        result=model.predict(reshaped)\n",
        "\n",
        "        label=np.argmax(result,axis=1)[0]\n",
        "\n",
        "        cv2.rectangle(img,(x,y),(x+w,y+h),color_dict[label],2)\n",
        "        cv2.rectangle(img,(x,y-40),(x+w,y),color_dict[label],-1)\n",
        "        cv2.putText(img, labels_dict[label], (x, y-10),cv2.FONT_HERSHEY_SIMPLEX,0.8,(255,255,255),2)\n",
        "\n",
        "\n",
        "    cv2.imshow('LIVE',img)\n",
        "    key=cv2.waitKey(1)\n",
        "\n",
        "    if(key==27):\n",
        "        break\n",
        "\n",
        "cv2.destroyAllWindows()\n",
        "cap.release()"
      ],
      "metadata": {
        "id": "ewy9oBzGUvxj"
      },
      "execution_count": null,
      "outputs": []
    },
    {
      "cell_type": "code",
      "source": [],
      "metadata": {
        "id": "QcUQMFudXhSI"
      },
      "execution_count": null,
      "outputs": []
    }
  ]
}